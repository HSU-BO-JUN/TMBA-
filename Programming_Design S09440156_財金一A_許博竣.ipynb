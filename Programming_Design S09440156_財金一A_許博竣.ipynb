{
  "nbformat": 4,
  "nbformat_minor": 0,
  "metadata": {
    "colab": {
      "provenance": []
    },
    "kernelspec": {
      "name": "python3",
      "display_name": "Python 3"
    },
    "language_info": {
      "name": "python"
    }
  },
  "cells": [
    {
      "cell_type": "markdown",
      "metadata": {
        "id": "liG7ZHoLdjTy"
      },
      "source": [
        "# 1.Please write a program that requires the user to enter a string consisting of three numbers separated by commas. Please add these three numbers together (Total) and calculate the average (Average) 5%\n",
        "請撰寫一程式，要求使用者輸入一字串，該字串為三個數字，以逗號隔開。請將此三個數字加總（Total）並計算平均（Average）\n",
        "example 範例:\n",
        "\n",
        "Please input three numbers請輸入三個數字:1,2,3\n",
        "\n",
        "Total = 6\n",
        "\n",
        "Average = 2.0"
      ]
    },
    {
      "cell_type": "code",
      "metadata": {
        "id": "xZRLscc7db_5",
        "colab": {
          "base_uri": "https://localhost:8080/"
        },
        "outputId": "32491652-605b-4870-de89-cefd29fee12d"
      },
      "source": [
        "a, b, c = eval(input('Enter a, b, c: '))\n",
        "sum = int(a) + int(b) + int(c)\n",
        "average = sum / 3\n",
        "print(\"Total：%d，average：%5.2f\" % (sum, average))"
      ],
      "execution_count": null,
      "outputs": [
        {
          "output_type": "stream",
          "text": [
            "Enter a, b, c: 1,2,3\n",
            "Total：6，average： 2.00\n"
          ],
          "name": "stdout"
        }
      ]
    },
    {
      "cell_type": "markdown",
      "metadata": {
        "id": "iDQBXv8qeU5k"
      },
      "source": [
        "# 2.Please use the loop description to write a program that allows the user to input a positive integer, and then sequentially output the multiplication results of this number in a triangular manner 5%\n",
        "請使用迴圈敘述撰寫一程式，讓使用者輸入一個正整數，然後以三角形的方式依序輸出此數的相乘結果\n",
        "\n",
        "example1:\n",
        "\n",
        "Please enter a positive integer 請輸入正整數:3\n",
        "\n",
        "1\n",
        "\n",
        "2 4\n",
        "\n",
        "3 6 9\n",
        "\n",
        "example範例2:\n",
        "\n",
        "Please enter a positive integer 請輸入正整數:4\n",
        "\n",
        "1\n",
        "\n",
        "2 4\n",
        "\n",
        "3 6 9\n",
        "\n",
        "4 8 12 16"
      ]
    },
    {
      "cell_type": "code",
      "metadata": {
        "colab": {
          "base_uri": "https://localhost:8080/"
        },
        "id": "yirLOm4jTbMp",
        "outputId": "46f2c390-2c0e-4492-bfa4-8849a82f2678"
      },
      "source": [
        "num = eval(input())\n",
        "for i in range(1, num+1):\n",
        "     for j in range(1, i+1):\n",
        "          print(\"%4d\"%(i* j), end = '')\n",
        "     print()"
      ],
      "execution_count": null,
      "outputs": [
        {
          "output_type": "stream",
          "text": [
            "4\n",
            "   1\n",
            "   2   4\n",
            "   3   6   9\n",
            "   4   8  12  16\n"
          ],
          "name": "stdout"
        }
      ]
    },
    {
      "cell_type": "markdown",
      "metadata": {
        "id": "-p6KSRT9fFgq"
      },
      "source": [
        "# 3.Use Helen's formula to find the area of a triangle, enter three numbers, and check that the sum of the two sides is greater than the third side 5%\n",
        "利用海倫公式求三角形的面積，輸入三個數，需檢查兩邊之和大於第三邊\n",
        "* example 範例:\n",
        "* The length of the first side of the triangle三角形第一個邊長： 3\n",
        "* The second side of the triangle三角形第二個邊長： 4\n",
        "* Length of the third side of the triangle三角形第三個邊長： 5\n",
        "* The area of the triangle is:6.0\n",
        "* example範例2:\n",
        "* The length of the first side of the triangle三角形第一個邊長： 1\n",
        "* The second side of the triangle三角形第二個邊長： 2\n",
        "* Length of the third side of the triangle三角形第三個邊長： 5\n",
        "* Not a triangle不是三角形"
      ]
    },
    {
      "cell_type": "code",
      "metadata": {
        "id": "lbJjHT5DfGoh",
        "colab": {
          "base_uri": "https://localhost:8080/"
        },
        "outputId": "352c0843-e316-406a-94ed-e6209fc66a08"
      },
      "source": [
        "import time\n",
        "i=0\n",
        "while i==0 or p<=0:\n",
        "      a=input(\"請輸入三角形第一個邊長 ==> \")\n",
        "      b=input(\"請輸入三角形第二個邊長 ==> \")\n",
        "      c=input(\"請輸入三角形第三個邊長 ==> \")\n",
        "      a=eval(a);b=eval(b);c=eval(c)\n",
        "      s=0.5*(a+b+c)\n",
        "      p=s*(s-a)*(s-b)*(s-c)\n",
        "      if p<=0:\n",
        "            print(\"此三角形不存在，請重新輸入!!!!\")\n",
        "      i+=1\n",
        "else:\n",
        "      print(\"三角形面積為：\",p**0.5)\n",
        "time.sleep(5)"
      ],
      "execution_count": null,
      "outputs": [
        {
          "output_type": "stream",
          "text": [
            "請輸入三角形第一個邊長 ==> 3\n",
            "請輸入三角形第二個邊長 ==> 4\n",
            "請輸入三角形第三個邊長 ==> 5\n",
            "三角形面積為： 6.0\n"
          ],
          "name": "stdout"
        }
      ]
    },
    {
      "cell_type": "code",
      "metadata": {
        "id": "eAK_EWcaSEiQ"
      },
      "source": [],
      "execution_count": null,
      "outputs": []
    },
    {
      "cell_type": "markdown",
      "metadata": {
        "id": "i7TqS4nDgQuD"
      },
      "source": [
        "# 4.Virtual currency converter, design a first input to select bitcoin or ether, the second is to input the quantity, and the third is to convert to US dollars or Taiwan dollars 5%\n",
        "虛擬貨幣轉換器，設計一個第一個輸入為選擇比特幣或是以太幣，第二個為輸入數量，第三個為想轉換為美金或台幣\n",
        "* Bitcoin to Taiwan Dollar Price比特幣轉台幣價格:998230.01\n",
        "* Bitcoin to USD price比特幣轉美金價格:36015.68\n",
        "* Ether to Taiwan dollar price以太幣轉台幣價格:76296.98\n",
        "* Ether to U.S. dollar price以太幣轉美金價格:2756.11\n",
        "\n",
        "* example 範例:\n",
        "*Your virtual currency (Bitcoin, Ethereum): Bitcoin\n",
        "* 你的虛擬貨幣(彼特幣，以太幣):彼特幣\n",
        "* Input quantity 輸入數量:0.005\n",
        "*Want to convert to Taiwan dollar or U.S. dollar: Taiwan dollar\n",
        "* 想轉換為台幣或是美金:台幣\n",
        "* Get Taiwan dollars 可獲得台幣:4991.15005\n",
        "\n",
        "* example 範例2:\n",
        "*Your virtual currency (Bitcoin, Ethereum): Bitcoin\n",
        "* 你的虛擬貨幣(比特幣，以太幣):比特幣\n",
        "* Input quantity 輸入數量:0.3\n",
        "* Want to convert to Taiwan dollar or U.S. dollar: U.S. dollar\n",
        "* 想轉換為台幣或是美金:美金\n",
        "* Get USD 可獲得美金:10804.704"
      ]
    },
    {
      "cell_type": "code",
      "metadata": {
        "id": "zoehU8EYgRwj",
        "colab": {
          "base_uri": "https://localhost:8080/"
        },
        "outputId": "c9579187-f739-41ba-f063-d12cd6368989"
      },
      "source": [
        "bt, bu, et, eu = 998230.01, 36015/68, 76296.98, 2756.11 \n",
        "virtual = input(\"Your virtual currency (Bitcoin, Etherueum): \")\n",
        "quantity = eval(input(\"Input quantity 輸入數量: \"))\n",
        "convert = input(\"Want to convert to Taiwan dollar or U.S. dollar: \")\n",
        "if \"Taiwan\" in convert:\n",
        "  c = et\n",
        "  if virtual == \"Bitcoin\":\n",
        "    c = bt\n",
        "  print(\"Get Taiwan dollars 可獲得臺幣: \", quantity * c)\n",
        "else:\n",
        "  c = ut\n",
        "  if virtual == \"Bitcoin\":\n",
        "    c = et\n",
        "  print(\"Get U.S. dollars 可獲得美金: \", quantitiy * c)"
      ],
      "execution_count": null,
      "outputs": [
        {
          "output_type": "stream",
          "text": [
            "Your virtual currency (Bitcoin, Etherueum): Bitcoin\n",
            "Input quantity 輸入數量: 53\n",
            "Want to convert to Taiwan dollar or U.S. dollar: Taiwan dollar\n",
            "Get Taiwan dollars 可獲得臺幣:  52906190.53\n"
          ],
          "name": "stdout"
        }
      ]
    },
    {
      "cell_type": "markdown",
      "metadata": {
        "id": "eGXCT-RuiMe7"
      },
      "source": [
        "# 5.Design a login system, first ask the user to enter the account, check whether the account is correct, if the error is displayed: the account you entered does not exist, please re-enter, and then enter the password after the account is correct, the correct display to enter the system 5%\n",
        "The upper limit of the error is 5 times. If you enter the wrong 5 times, it will display: The password has been entered incorrectly for multiple times, please try later and end the program. After each input error, it will display: The password is entered incorrectly, please re-enter, and there are x times to enter the opportunity\n",
        "\n",
        "設計一個登入系統，先請使用者輸入帳號，檢查帳好是否正確，如錯誤顯示:您輸入的帳號不存在，請重新輸入，帳號正確後再輸入密碼，正確顯示進入系統\n",
        "\n",
        "錯誤上限為5次，如輸入錯誤5次顯示:密碼輸入多次錯誤，請稍後在試，並結束程式，在每次輸入錯誤顯示:密碼輸入錯誤，請重新輸入，還有x次輸入機會\n",
        "* The user account is 用戶帳號為:ILoveTHU\n",
        "* The user password is 用戶密碼為:THULoveMe\n",
        "* Please enter your account number 請輸入您的帳號：ILoveTHU\n",
        "* Please enter the password 請輸入密碼:123\n",
        "\n",
        "* The password is entered incorrectly, please re-enter, there are 4 opportunities to enter 密碼輸入錯誤，請重新輸入，還有4次輸入機會\n",
        "*Please enter the password 請輸入密碼:1588\n",
        "* The password is entered incorrectly, please re-enter, there are 3 opportunities to enter密碼輸入錯誤，請重新輸入，還有3次輸入機會\n",
        "*Please enter the password 請輸入密碼:48556\n",
        "*The password is entered incorrectly, please re-enter, there are 2 opportunities to enter密碼輸入錯誤，請重新輸入，還有2次輸入機會\n",
        "*Please enter the password 請輸入密碼:15648\n",
        "*The password is entered incorrectly, please re-enter, there are 1 opportunities to enter密碼輸入錯誤，請重新輸入，還有1次輸入機會\n",
        "*Please enter the password 請輸入密碼:56165\n",
        "*The password is entered incorrectly, please re-enter, there are 0 opportunities to enter 密碼輸入錯誤，請重新輸入，還有0次輸入機會\n",
        "* The password is incorrectly entered several times, please try later密碼輸入多次錯誤，請稍後在試"
      ]
    },
    {
      "cell_type": "code",
      "metadata": {
        "id": "CB61p9Pttckp",
        "colab": {
          "base_uri": "https://localhost:8080/"
        },
        "outputId": "e1fe5861-9440-45ff-914c-5da751b749a5"
      },
      "source": [
        "5.\n",
        "AC=\"ILoveTHU\";\n",
        "PW=\"THULoveMe\";\n",
        "\n",
        "acc=input(\"輸入帳號:\");\n",
        "\n",
        "if (acc != \"ILoveTHU\"):\n",
        "    print(\"請輸入正確帳號:ILoveTHU\")\n",
        "    acc=input(\"輸入帳號:\");\n",
        "count=5\n",
        "for x in range(count):\n",
        "  count-=1; #0\n",
        "  pwd=input(\"請輸入密碼:\");\n",
        "\n",
        "  if(acc == AC and pwd == PW):\n",
        "    print(\"登入成功\");\n",
        "    break\n",
        "  else:\n",
        "    if(count==0):\n",
        "      print(\"帳號已鎖定，請找管理員\");\n",
        "      exit()\n",
        "    else:\n",
        "      print(\"帳號密碼錯誤,剩餘\"+str(count)+\"次機會，將鎖定帳號\");"
      ],
      "execution_count": null,
      "outputs": [
        {
          "output_type": "stream",
          "text": [
            "輸入帳號:ILoveTHU\n",
            "請輸入密碼:123\n",
            "帳號密碼錯誤,剩餘4次機會，將鎖定帳號\n",
            "請輸入密碼:1588\n",
            "帳號密碼錯誤,剩餘3次機會，將鎖定帳號\n",
            "請輸入密碼:48556\n",
            "帳號密碼錯誤,剩餘2次機會，將鎖定帳號\n",
            "請輸入密碼:15648\n",
            "帳號密碼錯誤,剩餘1次機會，將鎖定帳號\n",
            "請輸入密碼:56165\n",
            "帳號已鎖定，請找管理員\n"
          ],
          "name": "stdout"
        }
      ]
    },
    {
      "cell_type": "markdown",
      "metadata": {
        "id": "CYq6yctrin3F"
      },
      "source": [
        "# 程式碼除錯 6 ~ 9 Code debugging!  Please fix the code errors!! "
      ]
    },
    {
      "cell_type": "code",
      "metadata": {
        "id": "b6zFT003gQLo",
        "colab": {
          "base_uri": "https://localhost:8080/"
        },
        "outputId": "2b565af4-5c24-4feb-bff7-286bf4150b19"
      },
      "source": [
        "# 6. 程式碼除錯01 Code debugging (Please fix the code error!! ) 5%\n",
        "score = int(input('請輸入成績：'))\n",
        "if(score) >= 90:\n",
        "    print(\"優等\")\n",
        "elif(score) >= 80:\n",
        "    print(\"甲等\")\n",
        "elif(score) >= 70:\n",
        "    print(\"乙等\")\n",
        "elif(score) >= 60:\n",
        "    print(\"丙等\")\n",
        "else:\n",
        "    print(\"丁等\")"
      ],
      "execution_count": null,
      "outputs": [
        {
          "output_type": "stream",
          "text": [
            "請輸入成績：93\n",
            "優等\n"
          ],
          "name": "stdout"
        }
      ]
    },
    {
      "cell_type": "code",
      "metadata": {
        "id": "hqvXaupZq-8s",
        "colab": {
          "base_uri": "https://localhost:8080/"
        },
        "outputId": "d24f591c-1e20-4eb3-af41-ac474704aab9"
      },
      "source": [
        "# 7. 程式碼除錯02 Code debugging (Please fix the code error!! ) 5%\n",
        "nat = input(\"請輸入國文成績：\")\n",
        "math = input(\"請輸入數學成績：\")\n",
        "eng = input(\"請輸入英文成績：\")\n",
        "sum = int(nat) + int(math) + int(eng)  #輸入值需轉換為整數\n",
        "average = sum / 3\n",
        "print(\"成績總分：%d，平均成績：%5.2f\" % (sum, average))"
      ],
      "execution_count": null,
      "outputs": [
        {
          "output_type": "stream",
          "text": [
            "請輸入國文成績：6\n",
            "請輸入數學成績：25\n",
            "請輸入英文成績：65\n",
            "成績總分：96，平均成績：32.00\n"
          ],
          "name": "stdout"
        }
      ]
    },
    {
      "cell_type": "code",
      "metadata": {
        "id": "E3JyZUawrOLd",
        "colab": {
          "base_uri": "https://localhost:8080/"
        },
        "outputId": "8d85d3b2-14f6-42a5-c0ad-12a43f241156"
      },
      "source": [
        "# 8. 程式碼除錯02 Code debugging (Please fix the code error!! ) 5%\n",
        "money = eval(input(\"請輸入購物金額：\"))\n",
        "\n",
        "if(money >= 100000):\n",
        "    print(money * 0.8, end=\" 元\\n\")  #八折\n",
        "elif(money >= 50000):\n",
        "    print(money * 0.85, end=\" 元\\n\") #八五折\n",
        "elif(money >= 30000):\n",
        "    print(money * 0.9, end=\" 元\\n\")  #九折\n",
        "else:\n",
        "    print(money * 0.95, end=\" 元\\n\") #九五折"
      ],
      "execution_count": null,
      "outputs": [
        {
          "output_type": "stream",
          "text": [
            "請輸入購物金額：5655\n",
            "5372.25 元\n"
          ],
          "name": "stdout"
        }
      ]
    },
    {
      "cell_type": "code",
      "metadata": {
        "id": "2CfT3s8_sPgb",
        "colab": {
          "base_uri": "https://localhost:8080/"
        },
        "outputId": "cdad53c8-80f1-47d9-bbd6-e754a86f374f"
      },
      "source": [
        "# 9. 程式碼除錯02 Code debugging (Please fix the code error!! ) 5%\n",
        "total = person = score = 0\n",
        "while(score != -1):\n",
        "    person += 1\n",
        "    total += score\n",
        "    score = int(input(\"請輸入第 %d 位學生的成績：\" % person))\n",
        "average = total / (person - 1)\n",
        "print(\"本班總成績：%d 分，平均成績：%5.2f 分\" % (total, average))\n"
      ],
      "execution_count": null,
      "outputs": [
        {
          "output_type": "stream",
          "text": [
            "請輸入第 1 位學生的成績：25\n",
            "請輸入第 2 位學生的成績：64\n",
            "請輸入第 3 位學生的成績：32\n",
            "請輸入第 4 位學生的成績：-1\n",
            "本班總成績：121 分，平均成績：40.33 分\n"
          ],
          "name": "stdout"
        }
      ]
    },
    {
      "cell_type": "code",
      "metadata": {
        "id": "KpSW9AnosdEO"
      },
      "source": [
        "#　10. 請列出 九九乘法表 Please list the 9 X 9 multiplication table 5%"
      ],
      "execution_count": null,
      "outputs": []
    },
    {
      "cell_type": "code",
      "metadata": {
        "colab": {
          "base_uri": "https://localhost:8080/"
        },
        "id": "UVDyUW5-LbQc",
        "outputId": "eb5aa8c4-dde2-405e-afef-62e69a7e8170"
      },
      "source": [
        "for i in range(1, 10):\n",
        "    for j in range(1, 10):\n",
        "        print(str(i) + 'x' + str(j) + '=' + str(i * j) + ' ', end='')\n",
        "    print()  # newline"
      ],
      "execution_count": null,
      "outputs": [
        {
          "output_type": "stream",
          "text": [
            "1x1=1 1x2=2 1x3=3 1x4=4 1x5=5 1x6=6 1x7=7 1x8=8 1x9=9 \n",
            "2x1=2 2x2=4 2x3=6 2x4=8 2x5=10 2x6=12 2x7=14 2x8=16 2x9=18 \n",
            "3x1=3 3x2=6 3x3=9 3x4=12 3x5=15 3x6=18 3x7=21 3x8=24 3x9=27 \n",
            "4x1=4 4x2=8 4x3=12 4x4=16 4x5=20 4x6=24 4x7=28 4x8=32 4x9=36 \n",
            "5x1=5 5x2=10 5x3=15 5x4=20 5x5=25 5x6=30 5x7=35 5x8=40 5x9=45 \n",
            "6x1=6 6x2=12 6x3=18 6x4=24 6x5=30 6x6=36 6x7=42 6x8=48 6x9=54 \n",
            "7x1=7 7x2=14 7x3=21 7x4=28 7x5=35 7x6=42 7x7=49 7x8=56 7x9=63 \n",
            "8x1=8 8x2=16 8x3=24 8x4=32 8x5=40 8x6=48 8x7=56 8x8=64 8x9=72 \n",
            "9x1=9 9x2=18 9x3=27 9x4=36 9x5=45 9x6=54 9x7=63 9x8=72 9x9=81 \n"
          ],
          "name": "stdout"
        }
      ]
    },
    {
      "cell_type": "markdown",
      "metadata": {
        "id": "186WB-OdwLqi"
      },
      "source": [
        "# 11. Load data 載入資料 WA_Fn-UseC_-Marketing-Customer-Value-Analysis.csv 10%"
      ]
    },
    {
      "cell_type": "code",
      "metadata": {
        "id": "t-HueVy9PyG9"
      },
      "source": [
        "get_ipython().run_line_magic('matplotlib', 'inline')\n",
        "import matplotlib.pyplot as plt   #讓資料可視話\n",
        "import pandas as pd"
      ],
      "execution_count": null,
      "outputs": []
    },
    {
      "cell_type": "code",
      "metadata": {
        "id": "0eyiL96hwMNq",
        "colab": {
          "base_uri": "https://localhost:8080/"
        },
        "outputId": "ca63097d-2047-4771-957b-d0c313501b8d"
      },
      "source": [
        "df = pd.read_csv('/WA_Fn-UseC_-Marketing-Customer-Value-Analysis.csv', sep=',')\n",
        "df.shape"
      ],
      "execution_count": null,
      "outputs": [
        {
          "output_type": "execute_result",
          "data": {
            "text/plain": [
              "(9134, 24)"
            ]
          },
          "metadata": {
            "tags": []
          },
          "execution_count": 15
        }
      ]
    },
    {
      "cell_type": "code",
      "metadata": {
        "colab": {
          "base_uri": "https://localhost:8080/"
        },
        "id": "EEUi42yEPQXD",
        "outputId": "da5cd46a-ac61-4ad5-9f8f-947e3b094514"
      },
      "source": [
        "from google.colab import drive\n",
        "drive.mount('/content/drive')"
      ],
      "execution_count": null,
      "outputs": [
        {
          "output_type": "stream",
          "text": [
            "Drive already mounted at /content/drive; to attempt to forcibly remount, call drive.mount(\"/content/drive\", force_remount=True).\n"
          ],
          "name": "stdout"
        }
      ]
    },
    {
      "cell_type": "markdown",
      "metadata": {
        "id": "JkPtoXlywgUZ"
      },
      "source": [
        "# 12. Convert Yes/No in response to 1/0 and add the result to df with the field name Engaged 10%\n",
        "將 response 中的Yes/No 轉換成 1/0 再將結果以欄位名稱為 Engaged 加入 df 中"
      ]
    },
    {
      "cell_type": "code",
      "metadata": {
        "id": "vr_OD8frwlKd"
      },
      "source": [
        "df['Engaged'] = df['Response'].apply(lambda x: 0 if x == 'No' else 1)"
      ],
      "execution_count": null,
      "outputs": []
    },
    {
      "cell_type": "code",
      "metadata": {
        "colab": {
          "base_uri": "https://localhost:8080/",
          "height": 419
        },
        "id": "FQw7qG9IP6Bb",
        "outputId": "82b43273-3a38-4f48-bb7c-0686c9aa3dba"
      },
      "source": [
        "df[[\"Response\",\"Engaged\"]]"
      ],
      "execution_count": null,
      "outputs": [
        {
          "output_type": "execute_result",
          "data": {
            "text/html": [
              "<div>\n",
              "<style scoped>\n",
              "    .dataframe tbody tr th:only-of-type {\n",
              "        vertical-align: middle;\n",
              "    }\n",
              "\n",
              "    .dataframe tbody tr th {\n",
              "        vertical-align: top;\n",
              "    }\n",
              "\n",
              "    .dataframe thead th {\n",
              "        text-align: right;\n",
              "    }\n",
              "</style>\n",
              "<table border=\"1\" class=\"dataframe\">\n",
              "  <thead>\n",
              "    <tr style=\"text-align: right;\">\n",
              "      <th></th>\n",
              "      <th>Response</th>\n",
              "      <th>Engaged</th>\n",
              "    </tr>\n",
              "  </thead>\n",
              "  <tbody>\n",
              "    <tr>\n",
              "      <th>0</th>\n",
              "      <td>No</td>\n",
              "      <td>0</td>\n",
              "    </tr>\n",
              "    <tr>\n",
              "      <th>1</th>\n",
              "      <td>No</td>\n",
              "      <td>0</td>\n",
              "    </tr>\n",
              "    <tr>\n",
              "      <th>2</th>\n",
              "      <td>No</td>\n",
              "      <td>0</td>\n",
              "    </tr>\n",
              "    <tr>\n",
              "      <th>3</th>\n",
              "      <td>No</td>\n",
              "      <td>0</td>\n",
              "    </tr>\n",
              "    <tr>\n",
              "      <th>4</th>\n",
              "      <td>No</td>\n",
              "      <td>0</td>\n",
              "    </tr>\n",
              "    <tr>\n",
              "      <th>...</th>\n",
              "      <td>...</td>\n",
              "      <td>...</td>\n",
              "    </tr>\n",
              "    <tr>\n",
              "      <th>9129</th>\n",
              "      <td>No</td>\n",
              "      <td>0</td>\n",
              "    </tr>\n",
              "    <tr>\n",
              "      <th>9130</th>\n",
              "      <td>Yes</td>\n",
              "      <td>1</td>\n",
              "    </tr>\n",
              "    <tr>\n",
              "      <th>9131</th>\n",
              "      <td>No</td>\n",
              "      <td>0</td>\n",
              "    </tr>\n",
              "    <tr>\n",
              "      <th>9132</th>\n",
              "      <td>No</td>\n",
              "      <td>0</td>\n",
              "    </tr>\n",
              "    <tr>\n",
              "      <th>9133</th>\n",
              "      <td>No</td>\n",
              "      <td>0</td>\n",
              "    </tr>\n",
              "  </tbody>\n",
              "</table>\n",
              "<p>9134 rows × 2 columns</p>\n",
              "</div>"
            ],
            "text/plain": [
              "     Response  Engaged\n",
              "0          No        0\n",
              "1          No        0\n",
              "2          No        0\n",
              "3          No        0\n",
              "4          No        0\n",
              "...       ...      ...\n",
              "9129       No        0\n",
              "9130      Yes        1\n",
              "9131       No        0\n",
              "9132       No        0\n",
              "9133       No        0\n",
              "\n",
              "[9134 rows x 2 columns]"
            ]
          },
          "metadata": {
            "tags": []
          },
          "execution_count": 18
        }
      ]
    },
    {
      "cell_type": "markdown",
      "metadata": {
        "id": "EwAg6o-8w-6K"
      },
      "source": [
        "# 13. Compute and draw the histogram of \"Customer Lifetime Value\" variable.10%\n",
        "計算並繪製“客戶終身價值”變量的直方圖。"
      ]
    },
    {
      "cell_type": "code",
      "metadata": {
        "id": "msYZE79RxT8g",
        "colab": {
          "base_uri": "https://localhost:8080/",
          "height": 295
        },
        "outputId": "a5ac821e-f9b5-4310-b49d-fae824af4133"
      },
      "source": [
        "# Compute and draw the histogram of 'Customer Lifetime Value'.\n",
        "# the histogram of the data\n",
        "dfCLV = df[df['Customer Lifetime Value'] > 0]\n",
        "n, bins, pathes = plt.hist( dfCLV['Customer Lifetime Value'],100, facecolor='b', alpha=0.75)\n",
        "\n",
        "plt.xlabel('Histogram of Customer Lifetime Value')\n",
        "plt.ylabel('Count')\n",
        "plt.title('Histogram of Customer Lifetime Value')\n",
        "plt.text(30000,150, r'Peak')\n",
        "plt.text(95000,70, r'Max')\n",
        "plt.xlim()\n",
        "plt.ylim()\n",
        "plt.grid(True)\n",
        "plt.show()"
      ],
      "execution_count": null,
      "outputs": [
        {
          "output_type": "display_data",
          "data": {
            "image/png": "[encoded data removed]",
            "text/plain": [
              "<Figure size 432x288 with 1 Axes>"
            ]
          },
          "metadata": {
            "tags": [],
            "needs_background": "light"
          }
        }
      ]
    },
    {
      "cell_type": "markdown",
      "metadata": {
        "id": "e1TFB953x_i_"
      },
      "source": [
        "# 14. Please draw a diagram of pivot table 樞紐分析表 for 'Renew Offer Type','Engaged','Response'10%"
      ]
    },
    {
      "cell_type": "code",
      "metadata": {
        "id": "9hG6dUZ7yTOK",
        "colab": {
          "base_uri": "https://localhost:8080/",
          "height": 204
        },
        "outputId": "507deeb6-b037-4ebb-a169-272ad0c03906"
      },
      "source": [
        "df[['Renew Offer Type','Engaged','Response']].head()"
      ],
      "execution_count": null,
      "outputs": [
        {
          "output_type": "execute_result",
          "data": {
            "text/html": [
              "<div>\n",
              "<style scoped>\n",
              "    .dataframe tbody tr th:only-of-type {\n",
              "        vertical-align: middle;\n",
              "    }\n",
              "\n",
              "    .dataframe tbody tr th {\n",
              "        vertical-align: top;\n",
              "    }\n",
              "\n",
              "    .dataframe thead th {\n",
              "        text-align: right;\n",
              "    }\n",
              "</style>\n",
              "<table border=\"1\" class=\"dataframe\">\n",
              "  <thead>\n",
              "    <tr style=\"text-align: right;\">\n",
              "      <th></th>\n",
              "      <th>Renew Offer Type</th>\n",
              "      <th>Engaged</th>\n",
              "      <th>Response</th>\n",
              "    </tr>\n",
              "  </thead>\n",
              "  <tbody>\n",
              "    <tr>\n",
              "      <th>0</th>\n",
              "      <td>Offer1</td>\n",
              "      <td>0</td>\n",
              "      <td>No</td>\n",
              "    </tr>\n",
              "    <tr>\n",
              "      <th>1</th>\n",
              "      <td>Offer3</td>\n",
              "      <td>0</td>\n",
              "      <td>No</td>\n",
              "    </tr>\n",
              "    <tr>\n",
              "      <th>2</th>\n",
              "      <td>Offer1</td>\n",
              "      <td>0</td>\n",
              "      <td>No</td>\n",
              "    </tr>\n",
              "    <tr>\n",
              "      <th>3</th>\n",
              "      <td>Offer1</td>\n",
              "      <td>0</td>\n",
              "      <td>No</td>\n",
              "    </tr>\n",
              "    <tr>\n",
              "      <th>4</th>\n",
              "      <td>Offer1</td>\n",
              "      <td>0</td>\n",
              "      <td>No</td>\n",
              "    </tr>\n",
              "  </tbody>\n",
              "</table>\n",
              "</div>"
            ],
            "text/plain": [
              "  Renew Offer Type  Engaged Response\n",
              "0           Offer1        0       No\n",
              "1           Offer3        0       No\n",
              "2           Offer1        0       No\n",
              "3           Offer1        0       No\n",
              "4           Offer1        0       No"
            ]
          },
          "metadata": {
            "tags": []
          },
          "execution_count": 19
        }
      ]
    },
    {
      "cell_type": "code",
      "metadata": {
        "colab": {
          "base_uri": "https://localhost:8080/",
          "height": 204
        },
        "id": "EWl5SSwZQAoK",
        "outputId": "9ecd3182-0313-48c1-af28-699e8f9bea12"
      },
      "source": [
        "engagement_by_offer_type_df = pd.pivot_table(\n",
        "    df, values='Response', index='Renew Offer Type', columns='Engaged', aggfunc=len\n",
        ").fillna(0.0)\n",
        "engagement_by_offer_type_df"
      ],
      "execution_count": null,
      "outputs": [
        {
          "output_type": "execute_result",
          "data": {
            "text/html": [
              "<div>\n",
              "<style scoped>\n",
              "    .dataframe tbody tr th:only-of-type {\n",
              "        vertical-align: middle;\n",
              "    }\n",
              "\n",
              "    .dataframe tbody tr th {\n",
              "        vertical-align: top;\n",
              "    }\n",
              "\n",
              "    .dataframe thead th {\n",
              "        text-align: right;\n",
              "    }\n",
              "</style>\n",
              "<table border=\"1\" class=\"dataframe\">\n",
              "  <thead>\n",
              "    <tr style=\"text-align: right;\">\n",
              "      <th>Engaged</th>\n",
              "      <th>0</th>\n",
              "      <th>1</th>\n",
              "    </tr>\n",
              "    <tr>\n",
              "      <th>Renew Offer Type</th>\n",
              "      <th></th>\n",
              "      <th></th>\n",
              "    </tr>\n",
              "  </thead>\n",
              "  <tbody>\n",
              "    <tr>\n",
              "      <th>Offer1</th>\n",
              "      <td>3158.0</td>\n",
              "      <td>594.0</td>\n",
              "    </tr>\n",
              "    <tr>\n",
              "      <th>Offer2</th>\n",
              "      <td>2242.0</td>\n",
              "      <td>684.0</td>\n",
              "    </tr>\n",
              "    <tr>\n",
              "      <th>Offer3</th>\n",
              "      <td>1402.0</td>\n",
              "      <td>30.0</td>\n",
              "    </tr>\n",
              "    <tr>\n",
              "      <th>Offer4</th>\n",
              "      <td>1024.0</td>\n",
              "      <td>0.0</td>\n",
              "    </tr>\n",
              "  </tbody>\n",
              "</table>\n",
              "</div>"
            ],
            "text/plain": [
              "Engaged                0      1\n",
              "Renew Offer Type               \n",
              "Offer1            3158.0  594.0\n",
              "Offer2            2242.0  684.0\n",
              "Offer3            1402.0   30.0\n",
              "Offer4            1024.0    0.0"
            ]
          },
          "metadata": {
            "tags": []
          },
          "execution_count": 20
        }
      ]
    },
    {
      "cell_type": "code",
      "metadata": {
        "colab": {
          "base_uri": "https://localhost:8080/",
          "height": 142
        },
        "id": "nunOUYNiQCV8",
        "outputId": "1f199e4d-d941-42bb-cfc6-4bf2edc0081e"
      },
      "source": [
        "engagement_by_Engaged_df = pd.pivot_table(\n",
        "    df, values='Response', index='Engaged', columns='Renew Offer Type', aggfunc=len\n",
        ").fillna(0.0)\n",
        "engagement_by_Engaged_df"
      ],
      "execution_count": null,
      "outputs": [
        {
          "output_type": "execute_result",
          "data": {
            "text/html": [
              "<div>\n",
              "<style scoped>\n",
              "    .dataframe tbody tr th:only-of-type {\n",
              "        vertical-align: middle;\n",
              "    }\n",
              "\n",
              "    .dataframe tbody tr th {\n",
              "        vertical-align: top;\n",
              "    }\n",
              "\n",
              "    .dataframe thead th {\n",
              "        text-align: right;\n",
              "    }\n",
              "</style>\n",
              "<table border=\"1\" class=\"dataframe\">\n",
              "  <thead>\n",
              "    <tr style=\"text-align: right;\">\n",
              "      <th>Renew Offer Type</th>\n",
              "      <th>Offer1</th>\n",
              "      <th>Offer2</th>\n",
              "      <th>Offer3</th>\n",
              "      <th>Offer4</th>\n",
              "    </tr>\n",
              "    <tr>\n",
              "      <th>Engaged</th>\n",
              "      <th></th>\n",
              "      <th></th>\n",
              "      <th></th>\n",
              "      <th></th>\n",
              "    </tr>\n",
              "  </thead>\n",
              "  <tbody>\n",
              "    <tr>\n",
              "      <th>0</th>\n",
              "      <td>3158.0</td>\n",
              "      <td>2242.0</td>\n",
              "      <td>1402.0</td>\n",
              "      <td>1024.0</td>\n",
              "    </tr>\n",
              "    <tr>\n",
              "      <th>1</th>\n",
              "      <td>594.0</td>\n",
              "      <td>684.0</td>\n",
              "      <td>30.0</td>\n",
              "      <td>0.0</td>\n",
              "    </tr>\n",
              "  </tbody>\n",
              "</table>\n",
              "</div>"
            ],
            "text/plain": [
              "Renew Offer Type  Offer1  Offer2  Offer3  Offer4\n",
              "Engaged                                         \n",
              "0                 3158.0  2242.0  1402.0  1024.0\n",
              "1                  594.0   684.0    30.0     0.0"
            ]
          },
          "metadata": {
            "tags": []
          },
          "execution_count": 21
        }
      ]
    },
    {
      "cell_type": "code",
      "metadata": {
        "colab": {
          "base_uri": "https://localhost:8080/",
          "height": 204
        },
        "id": "C5O93G8MQEHb",
        "outputId": "1b307f18-de1c-4f87-d66a-4687ed355ad2"
      },
      "source": [
        "engagement_by_offer_type_df.columns = ['Not Engaged', 'Engaged']\n",
        "engagement_by_offer_type_df"
      ],
      "execution_count": null,
      "outputs": [
        {
          "output_type": "execute_result",
          "data": {
            "text/html": [
              "<div>\n",
              "<style scoped>\n",
              "    .dataframe tbody tr th:only-of-type {\n",
              "        vertical-align: middle;\n",
              "    }\n",
              "\n",
              "    .dataframe tbody tr th {\n",
              "        vertical-align: top;\n",
              "    }\n",
              "\n",
              "    .dataframe thead th {\n",
              "        text-align: right;\n",
              "    }\n",
              "</style>\n",
              "<table border=\"1\" class=\"dataframe\">\n",
              "  <thead>\n",
              "    <tr style=\"text-align: right;\">\n",
              "      <th></th>\n",
              "      <th>Not Engaged</th>\n",
              "      <th>Engaged</th>\n",
              "    </tr>\n",
              "    <tr>\n",
              "      <th>Renew Offer Type</th>\n",
              "      <th></th>\n",
              "      <th></th>\n",
              "    </tr>\n",
              "  </thead>\n",
              "  <tbody>\n",
              "    <tr>\n",
              "      <th>Offer1</th>\n",
              "      <td>3158.0</td>\n",
              "      <td>594.0</td>\n",
              "    </tr>\n",
              "    <tr>\n",
              "      <th>Offer2</th>\n",
              "      <td>2242.0</td>\n",
              "      <td>684.0</td>\n",
              "    </tr>\n",
              "    <tr>\n",
              "      <th>Offer3</th>\n",
              "      <td>1402.0</td>\n",
              "      <td>30.0</td>\n",
              "    </tr>\n",
              "    <tr>\n",
              "      <th>Offer4</th>\n",
              "      <td>1024.0</td>\n",
              "      <td>0.0</td>\n",
              "    </tr>\n",
              "  </tbody>\n",
              "</table>\n",
              "</div>"
            ],
            "text/plain": [
              "                  Not Engaged  Engaged\n",
              "Renew Offer Type                      \n",
              "Offer1                 3158.0    594.0\n",
              "Offer2                 2242.0    684.0\n",
              "Offer3                 1402.0     30.0\n",
              "Offer4                 1024.0      0.0"
            ]
          },
          "metadata": {
            "tags": []
          },
          "execution_count": 22
        }
      ]
    },
    {
      "cell_type": "code",
      "metadata": {
        "colab": {
          "base_uri": "https://localhost:8080/",
          "height": 296
        },
        "id": "Y1eDLHQuXZSR",
        "outputId": "879cda6d-678e-4d23-ecee-0d6c067ece09"
      },
      "source": [
        "engagement_by_offer_type_df.plot()"
      ],
      "execution_count": null,
      "outputs": [
        {
          "output_type": "execute_result",
          "data": {
            "text/plain": [
              "<matplotlib.axes._subplots.AxesSubplot at 0x7f891ae3ead0>"
            ]
          },
          "metadata": {
            "tags": []
          },
          "execution_count": 24
        },
        {
          "output_type": "display_data",
          "data": {
            "image/png": "[encoded data removed]",
            "text/plain": [
              "<Figure size 432x288 with 1 Axes>"
            ]
          },
          "metadata": {
            "tags": [],
            "needs_background": "light"
          }
        }
      ]
    },
    {
      "cell_type": "code",
      "metadata": {
        "colab": {
          "base_uri": "https://localhost:8080/",
          "height": 204
        },
        "id": "bT_xSlVNXb1-",
        "outputId": "3041e5f5-2e8a-4f3f-e1f3-57f8fadd5c7a"
      },
      "source": [
        "Offer1 = pd.DataFrame(\n",
        "    df.groupby('Renew Offer Type').count()['Engaged'] \n",
        ")\n",
        "Offer1"
      ],
      "execution_count": null,
      "outputs": [
        {
          "output_type": "execute_result",
          "data": {
            "text/html": [
              "<div>\n",
              "<style scoped>\n",
              "    .dataframe tbody tr th:only-of-type {\n",
              "        vertical-align: middle;\n",
              "    }\n",
              "\n",
              "    .dataframe tbody tr th {\n",
              "        vertical-align: top;\n",
              "    }\n",
              "\n",
              "    .dataframe thead th {\n",
              "        text-align: right;\n",
              "    }\n",
              "</style>\n",
              "<table border=\"1\" class=\"dataframe\">\n",
              "  <thead>\n",
              "    <tr style=\"text-align: right;\">\n",
              "      <th></th>\n",
              "      <th>Engaged</th>\n",
              "    </tr>\n",
              "    <tr>\n",
              "      <th>Renew Offer Type</th>\n",
              "      <th></th>\n",
              "    </tr>\n",
              "  </thead>\n",
              "  <tbody>\n",
              "    <tr>\n",
              "      <th>Offer1</th>\n",
              "      <td>3752</td>\n",
              "    </tr>\n",
              "    <tr>\n",
              "      <th>Offer2</th>\n",
              "      <td>2926</td>\n",
              "    </tr>\n",
              "    <tr>\n",
              "      <th>Offer3</th>\n",
              "      <td>1432</td>\n",
              "    </tr>\n",
              "    <tr>\n",
              "      <th>Offer4</th>\n",
              "      <td>1024</td>\n",
              "    </tr>\n",
              "  </tbody>\n",
              "</table>\n",
              "</div>"
            ],
            "text/plain": [
              "                  Engaged\n",
              "Renew Offer Type         \n",
              "Offer1               3752\n",
              "Offer2               2926\n",
              "Offer3               1432\n",
              "Offer4               1024"
            ]
          },
          "metadata": {
            "tags": []
          },
          "execution_count": 25
        }
      ]
    },
    {
      "cell_type": "code",
      "metadata": {
        "colab": {
          "base_uri": "https://localhost:8080/",
          "height": 296
        },
        "id": "k-riElOgXdqY",
        "outputId": "a9cf78d5-fb1b-4fcf-c80d-8f2d3a932e4a"
      },
      "source": [
        "Offer1.plot()"
      ],
      "execution_count": null,
      "outputs": [
        {
          "output_type": "execute_result",
          "data": {
            "text/plain": [
              "<matplotlib.axes._subplots.AxesSubplot at 0x7f891a902150>"
            ]
          },
          "metadata": {
            "tags": []
          },
          "execution_count": 26
        },
        {
          "output_type": "display_data",
          "data": {
            "image/png": "[encoded data removed]",
            "text/plain": [
              "<Figure size 432x288 with 1 Axes>"
            ]
          },
          "metadata": {
            "tags": [],
            "needs_background": "light"
          }
        }
      ]
    },
    {
      "cell_type": "code",
      "metadata": {
        "colab": {
          "base_uri": "https://localhost:8080/",
          "height": 411
        },
        "id": "_ZQfncbLXgsu",
        "outputId": "dfbf908c-70d1-44aa-e1a0-969ce506063b"
      },
      "source": [
        "engagement_by_offer_type_df.plot(\n",
        "    kind='pie',        \n",
        "    figsize=(15, 7),\n",
        "    startangle=90,\n",
        "    subplots=True,\n",
        "    autopct=lambda x: '%0.1f%%' % x # % 屬於跳脫字元 需用特殊方式印出\n",
        "    #autopct='%.1f%%'\n",
        ")\n",
        "plt.show()"
      ],
      "execution_count": null,
      "outputs": [
        {
          "output_type": "display_data",
          "data": {
            "image/png": "[encoded data removed]",
            "text/plain": [
              "<Figure size 1080x504 with 2 Axes>"
            ]
          },
          "metadata": {
            "tags": []
          }
        }
      ]
    },
    {
      "cell_type": "markdown",
      "metadata": {
        "id": "6H_KhE6ByTpQ"
      },
      "source": [
        "# 15. Please draw a diagram of pivot table 樞紐分析表 for 'Sales Channel','Engaged','Response'  10%"
      ]
    },
    {
      "cell_type": "code",
      "metadata": {
        "id": "EE2teTkkyomD",
        "colab": {
          "base_uri": "https://localhost:8080/",
          "height": 204
        },
        "outputId": "bfefb70f-09ee-4f3c-c879-66fd46c9e4f0"
      },
      "source": [
        "df[['Sales Channel','Engaged','Response']].head()"
      ],
      "execution_count": null,
      "outputs": [
        {
          "output_type": "execute_result",
          "data": {
            "text/html": [
              "<div>\n",
              "<style scoped>\n",
              "    .dataframe tbody tr th:only-of-type {\n",
              "        vertical-align: middle;\n",
              "    }\n",
              "\n",
              "    .dataframe tbody tr th {\n",
              "        vertical-align: top;\n",
              "    }\n",
              "\n",
              "    .dataframe thead th {\n",
              "        text-align: right;\n",
              "    }\n",
              "</style>\n",
              "<table border=\"1\" class=\"dataframe\">\n",
              "  <thead>\n",
              "    <tr style=\"text-align: right;\">\n",
              "      <th></th>\n",
              "      <th>Sales Channel</th>\n",
              "      <th>Engaged</th>\n",
              "      <th>Response</th>\n",
              "    </tr>\n",
              "  </thead>\n",
              "  <tbody>\n",
              "    <tr>\n",
              "      <th>0</th>\n",
              "      <td>Agent</td>\n",
              "      <td>0</td>\n",
              "      <td>No</td>\n",
              "    </tr>\n",
              "    <tr>\n",
              "      <th>1</th>\n",
              "      <td>Agent</td>\n",
              "      <td>0</td>\n",
              "      <td>No</td>\n",
              "    </tr>\n",
              "    <tr>\n",
              "      <th>2</th>\n",
              "      <td>Agent</td>\n",
              "      <td>0</td>\n",
              "      <td>No</td>\n",
              "    </tr>\n",
              "    <tr>\n",
              "      <th>3</th>\n",
              "      <td>Call Center</td>\n",
              "      <td>0</td>\n",
              "      <td>No</td>\n",
              "    </tr>\n",
              "    <tr>\n",
              "      <th>4</th>\n",
              "      <td>Agent</td>\n",
              "      <td>0</td>\n",
              "      <td>No</td>\n",
              "    </tr>\n",
              "  </tbody>\n",
              "</table>\n",
              "</div>"
            ],
            "text/plain": [
              "  Sales Channel  Engaged Response\n",
              "0         Agent        0       No\n",
              "1         Agent        0       No\n",
              "2         Agent        0       No\n",
              "3   Call Center        0       No\n",
              "4         Agent        0       No"
            ]
          },
          "metadata": {
            "tags": []
          },
          "execution_count": 23
        }
      ]
    },
    {
      "cell_type": "code",
      "metadata": {
        "colab": {
          "base_uri": "https://localhost:8080/",
          "height": 142
        },
        "id": "1yZxHPyYQJD9",
        "outputId": "ab3ec0c3-5697-4933-8169-9997fdac0184"
      },
      "source": [
        "engagement_by_offer_type_df = pd.pivot_table(\n",
        "    df, values='Sales Channel', index='Engaged', columns='Response', aggfunc=len\n",
        ").fillna(0.0)\n",
        "engagement_by_offer_type_df"
      ],
      "execution_count": null,
      "outputs": [
        {
          "output_type": "execute_result",
          "data": {
            "text/html": [
              "<div>\n",
              "<style scoped>\n",
              "    .dataframe tbody tr th:only-of-type {\n",
              "        vertical-align: middle;\n",
              "    }\n",
              "\n",
              "    .dataframe tbody tr th {\n",
              "        vertical-align: top;\n",
              "    }\n",
              "\n",
              "    .dataframe thead th {\n",
              "        text-align: right;\n",
              "    }\n",
              "</style>\n",
              "<table border=\"1\" class=\"dataframe\">\n",
              "  <thead>\n",
              "    <tr style=\"text-align: right;\">\n",
              "      <th>Response</th>\n",
              "      <th>No</th>\n",
              "      <th>Yes</th>\n",
              "    </tr>\n",
              "    <tr>\n",
              "      <th>Engaged</th>\n",
              "      <th></th>\n",
              "      <th></th>\n",
              "    </tr>\n",
              "  </thead>\n",
              "  <tbody>\n",
              "    <tr>\n",
              "      <th>0</th>\n",
              "      <td>7826.0</td>\n",
              "      <td>0.0</td>\n",
              "    </tr>\n",
              "    <tr>\n",
              "      <th>1</th>\n",
              "      <td>0.0</td>\n",
              "      <td>1308.0</td>\n",
              "    </tr>\n",
              "  </tbody>\n",
              "</table>\n",
              "</div>"
            ],
            "text/plain": [
              "Response      No     Yes\n",
              "Engaged                 \n",
              "0         7826.0     0.0\n",
              "1            0.0  1308.0"
            ]
          },
          "metadata": {
            "tags": []
          },
          "execution_count": 46
        }
      ]
    },
    {
      "cell_type": "code",
      "metadata": {
        "colab": {
          "base_uri": "https://localhost:8080/",
          "height": 142
        },
        "id": "-PMojIznQLQt",
        "outputId": "6a5db473-97c8-44ac-873f-7a88faa122b2"
      },
      "source": [
        "engagement_by_offer_type_df.columns = ['Sales Channel','Response']\n",
        "engagement_by_offer_type_df"
      ],
      "execution_count": null,
      "outputs": [
        {
          "output_type": "execute_result",
          "data": {
            "text/html": [
              "<div>\n",
              "<style scoped>\n",
              "    .dataframe tbody tr th:only-of-type {\n",
              "        vertical-align: middle;\n",
              "    }\n",
              "\n",
              "    .dataframe tbody tr th {\n",
              "        vertical-align: top;\n",
              "    }\n",
              "\n",
              "    .dataframe thead th {\n",
              "        text-align: right;\n",
              "    }\n",
              "</style>\n",
              "<table border=\"1\" class=\"dataframe\">\n",
              "  <thead>\n",
              "    <tr style=\"text-align: right;\">\n",
              "      <th></th>\n",
              "      <th>Sales Channel</th>\n",
              "      <th>Response</th>\n",
              "    </tr>\n",
              "    <tr>\n",
              "      <th>Engaged</th>\n",
              "      <th></th>\n",
              "      <th></th>\n",
              "    </tr>\n",
              "  </thead>\n",
              "  <tbody>\n",
              "    <tr>\n",
              "      <th>0</th>\n",
              "      <td>7826.0</td>\n",
              "      <td>0.0</td>\n",
              "    </tr>\n",
              "    <tr>\n",
              "      <th>1</th>\n",
              "      <td>0.0</td>\n",
              "      <td>1308.0</td>\n",
              "    </tr>\n",
              "  </tbody>\n",
              "</table>\n",
              "</div>"
            ],
            "text/plain": [
              "         Sales Channel  Response\n",
              "Engaged                         \n",
              "0               7826.0       0.0\n",
              "1                  0.0    1308.0"
            ]
          },
          "metadata": {
            "tags": []
          },
          "execution_count": 47
        }
      ]
    },
    {
      "cell_type": "code",
      "metadata": {
        "colab": {
          "base_uri": "https://localhost:8080/",
          "height": 142
        },
        "id": "qzWvnZC2QLOE",
        "outputId": "da171741-384c-4d13-9269-db14b8f3e6b7"
      },
      "source": [
        "engagement_by_offer_type_df.columns = ['Engaged', 'Response']\n",
        "engagement_by_offer_type_df"
      ],
      "execution_count": null,
      "outputs": [
        {
          "output_type": "execute_result",
          "data": {
            "text/html": [
              "<div>\n",
              "<style scoped>\n",
              "    .dataframe tbody tr th:only-of-type {\n",
              "        vertical-align: middle;\n",
              "    }\n",
              "\n",
              "    .dataframe tbody tr th {\n",
              "        vertical-align: top;\n",
              "    }\n",
              "\n",
              "    .dataframe thead th {\n",
              "        text-align: right;\n",
              "    }\n",
              "</style>\n",
              "<table border=\"1\" class=\"dataframe\">\n",
              "  <thead>\n",
              "    <tr style=\"text-align: right;\">\n",
              "      <th></th>\n",
              "      <th>Engaged</th>\n",
              "      <th>Response</th>\n",
              "    </tr>\n",
              "    <tr>\n",
              "      <th>Engaged</th>\n",
              "      <th></th>\n",
              "      <th></th>\n",
              "    </tr>\n",
              "  </thead>\n",
              "  <tbody>\n",
              "    <tr>\n",
              "      <th>0</th>\n",
              "      <td>7826.0</td>\n",
              "      <td>0.0</td>\n",
              "    </tr>\n",
              "    <tr>\n",
              "      <th>1</th>\n",
              "      <td>0.0</td>\n",
              "      <td>1308.0</td>\n",
              "    </tr>\n",
              "  </tbody>\n",
              "</table>\n",
              "</div>"
            ],
            "text/plain": [
              "         Engaged  Response\n",
              "Engaged                   \n",
              "0         7826.0       0.0\n",
              "1            0.0    1308.0"
            ]
          },
          "metadata": {
            "tags": []
          },
          "execution_count": 48
        }
      ]
    },
    {
      "cell_type": "code",
      "metadata": {
        "colab": {
          "base_uri": "https://localhost:8080/",
          "height": 142
        },
        "id": "3L5LAlUDQOtF",
        "outputId": "eb1812c0-8213-42bf-ca08-a38a09fb3ded"
      },
      "source": [
        "engagement_by_offer_type_df.columns = ['Engaged', 'Sales Channel']\n",
        "engagement_by_offer_type_df"
      ],
      "execution_count": null,
      "outputs": [
        {
          "output_type": "execute_result",
          "data": {
            "text/html": [
              "<div>\n",
              "<style scoped>\n",
              "    .dataframe tbody tr th:only-of-type {\n",
              "        vertical-align: middle;\n",
              "    }\n",
              "\n",
              "    .dataframe tbody tr th {\n",
              "        vertical-align: top;\n",
              "    }\n",
              "\n",
              "    .dataframe thead th {\n",
              "        text-align: right;\n",
              "    }\n",
              "</style>\n",
              "<table border=\"1\" class=\"dataframe\">\n",
              "  <thead>\n",
              "    <tr style=\"text-align: right;\">\n",
              "      <th></th>\n",
              "      <th>Engaged</th>\n",
              "      <th>Sales Channel</th>\n",
              "    </tr>\n",
              "    <tr>\n",
              "      <th>Engaged</th>\n",
              "      <th></th>\n",
              "      <th></th>\n",
              "    </tr>\n",
              "  </thead>\n",
              "  <tbody>\n",
              "    <tr>\n",
              "      <th>0</th>\n",
              "      <td>7826.0</td>\n",
              "      <td>0.0</td>\n",
              "    </tr>\n",
              "    <tr>\n",
              "      <th>1</th>\n",
              "      <td>0.0</td>\n",
              "      <td>1308.0</td>\n",
              "    </tr>\n",
              "  </tbody>\n",
              "</table>\n",
              "</div>"
            ],
            "text/plain": [
              "         Engaged  Sales Channel\n",
              "Engaged                        \n",
              "0         7826.0            0.0\n",
              "1            0.0         1308.0"
            ]
          },
          "metadata": {
            "tags": []
          },
          "execution_count": 49
        }
      ]
    }
  ]
}